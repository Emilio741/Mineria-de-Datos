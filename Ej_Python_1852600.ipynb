{
 "cells": [
  {
   "cell_type": "code",
   "execution_count": 1,
   "metadata": {},
   "outputs": [
    {
     "name": "stdout",
     "output_type": "stream",
     "text": [
      "Hola mundo\n"
     ]
    }
   ],
   "source": [
    "print(\"Hola mundo\")"
   ]
  },
  {
   "cell_type": "code",
   "execution_count": 35,
   "metadata": {},
   "outputs": [
    {
     "name": "stdout",
     "output_type": "stream",
     "text": [
      "Introduce tu nombre:Sofi\n",
      "Introduce tu matricula: 15\n",
      "Nombre:  Sofi Matricula 15\n"
     ]
    }
   ],
   "source": [
    "#Ejercicio 1\n",
    "#Realiza una variable con tu matricula y realiza una secuencia de imprimir con tu nombre y tu matricula concatenados.\n",
    "name = (input(\"Introduce tu nombre:\" ))\n",
    "b1 = int(input(\"Introduce tu matricula: \"))\n",
    "print (\"Nombre: \", name,\"Matricula\",b1)"
   ]
  },
  {
   "cell_type": "code",
   "execution_count": 36,
   "metadata": {},
   "outputs": [
    {
     "name": "stdout",
     "output_type": "stream",
     "text": [
      "Introduce el primer número: 2\n",
      "Introduce el segundo número: 2\n",
      "Introduce que operación ocupa\n",
      "1-Suma 2- Resta 3 -Multiplicacion 4-Division 5 -Exponente 3\n",
      "Resultado\n",
      "4\n",
      "Termino con la calculadora? \n",
      "Si-1 No-00\n",
      "Introduce que operación ocupa\n",
      "1-Suma 2- Resta 3 -Multiplicacion 4-Division 5 -Exponente 4\n",
      "Resultado\n",
      "1.0\n",
      "Termino con la calculadora? \n",
      "Si-1 No-01\n"
     ]
    }
   ],
   "source": [
    "#Ejercicio 2\n",
    "#Pidiendo el input del usuario pide dos números \n",
    "#y crea una pequeña calculadora con los operadores básicos de suma, resta, multiplicación, división, y exponente.\n",
    "#Utilizando el loop de while\n",
    "a1 = int(input(\"Introduce el primer número: \"))\n",
    "b1 = int(input(\"Introduce el segundo número: \"))\n",
    "#variable decision\n",
    "i=0\n",
    "while i == 0 :\n",
    "    #Variable de calculadora\n",
    "    op=0\n",
    "    print(\"Introduce que operación ocupa\")\n",
    "    op= int(input(\"1-Suma 2- Resta 3 -Multiplicacion 4-Division 5 -Exponente \"))\n",
    "    #Este es un switch para determinar cual operacion se ocupa\n",
    "    if op==1:\n",
    "        c= a1+b1\n",
    "        print(\"Resultado\")\n",
    "        print(c)\n",
    "    if op==2:\n",
    "        c= a1-b1\n",
    "        print(\"Resultado\")\n",
    "        print(c)\n",
    "    if op==3:\n",
    "        c= a1*b1\n",
    "        print(\"Resultado\")\n",
    "        print(c)\n",
    "    if op==4:\n",
    "        if b1==0:\n",
    "            print(\"No es posible hacer la operacion\")\n",
    "        else:\n",
    "            print(\"Resultado\")\n",
    "            c= a1/b1\n",
    "            print(c)\n",
    "    if op==5:\n",
    "        #** es exponencial\n",
    "        c= a1**b1\n",
    "        print(\"Resultado\")\n",
    "        print(c)\n",
    "    print(\"Termino con la calculadora? \")\n",
    "    #Variable Bandera\n",
    "    i= int(input(\"Si-1 No-0\"))"
   ]
  },
  {
   "cell_type": "code",
   "execution_count": 105,
   "metadata": {},
   "outputs": [
    {
     "name": "stdout",
     "output_type": "stream",
     "text": [
      "Acumulado 165\n"
     ]
    }
   ],
   "source": [
    "#Ejercicio 3\n",
    "#Con loop while o for, realiza una lista de 10 numeros multiplos de 3, \n",
    "#y después realiza una función de loop que sume todos los números dentro del arreglo.\n",
    "lista=[1,2,3,4,5,6,7,8,9,10]\n",
    "a=0\n",
    "i=0\n",
    "while i !=10 :\n",
    "    a=a+1\n",
    "    if a%3 == 0 :\n",
    "        lista[i] = a\n",
    "        i=i+1\n",
    "i=0\n",
    "acum=0\n",
    "while i !=10 :\n",
    "    acum=lista[i]+acum\n",
    "    i=i+1\n",
    "print(\"Acumulado\",acum)"
   ]
  },
  {
   "cell_type": "markdown",
   "metadata": {},
   "source": [
    "# "
   ]
  },
  {
   "cell_type": "code",
   "execution_count": 109,
   "metadata": {},
   "outputs": [
    {
     "name": "stdout",
     "output_type": "stream",
     "text": [
      "Introduce el numero a checar3\n",
      "Es impar\n"
     ]
    }
   ],
   "source": [
    "#Ejercicio 4\n",
    "#Con una función de if else, revisar si un número es par o es impar.\n",
    "#Con una función de if else, revisar si un número es primo o no.\n",
    "a= int(input(\"Introduce el numero a checar\"))\n",
    "if a%2 == 0:\n",
    "    print(\"Es par\")\n",
    "if a%3 == 0:\n",
    "    print(\"Es impar\")"
   ]
  },
  {
   "cell_type": "code",
   "execution_count": 50,
   "metadata": {},
   "outputs": [
    {
     "name": "stdout",
     "output_type": "stream",
     "text": [
      "Introduce el primer número: 1\n",
      "Introduce el segundo número: 1\n",
      "Introduce que operación ocupa\n",
      "1-Suma 2- Resta 3 -Multiplicacion 4-Division 5 -Exponente 1\n",
      "Resultado\n",
      "2\n",
      "Termino con la calculadora? \n",
      "Si-1 No-01\n"
     ]
    }
   ],
   "source": [
    "#Ejecicio 5\n",
    "#Utilizando diferentes clases en python, crea una calculadora con los operadores básicos de suma, \n",
    "#resta, multiplicación, división, y exponente.\n",
    "#Funciones matemáticas en la librería de math en python:\n",
    "i=0\n",
    "def suma(a,b):\n",
    "    #suma\n",
    "    return(a+b)\n",
    "def resta(a,b):\n",
    "    #suma\n",
    "    return(a-b)\n",
    "def division(a,b):\n",
    "    #suma\n",
    "    return(a/b)\n",
    "def multiplicacion(a,b):\n",
    "    #suma\n",
    "    return(a*b)\n",
    "def exponente(a,b):\n",
    "    #suma\n",
    "    return(a**b)\n",
    "while i == 0 :\n",
    "    a1 = int(input(\"Introduce el primer número: \"))\n",
    "    b1 = int(input(\"Introduce el segundo número: \"))\n",
    "    op=0\n",
    "    print(\"Introduce que operación ocupa\")\n",
    "    op= int(input(\"1-Suma 2- Resta 3 -Multiplicacion 4-Division 5 -Exponente \"))\n",
    "    #Este es un switch para determinar cual operacion se ocupa\n",
    "    if op==1:\n",
    "        c= suma(a1,b1)\n",
    "        print(\"Resultado\")\n",
    "        print(c)\n",
    "    if op==2:\n",
    "        print(\"Resultado\")\n",
    "        c=resta(a1,b1)\n",
    "        print(c)\n",
    "    if op==3:\n",
    "        print(\"Resultado\")\n",
    "        c=multiplicacion(a1,b1)\n",
    "        print(c)\n",
    "    if op==4:\n",
    "        if b1==0:\n",
    "            print(\"No es posible hacer la operacion\")\n",
    "        else:\n",
    "            print(\"Resultado\")\n",
    "            c=division(a1,b1)\n",
    "            print(c)\n",
    "    if op==5:\n",
    "        #** es exponencial\n",
    "        print(\"Resultado\")\n",
    "        c=exponencial(a1,b1)\n",
    "        print(c)\n",
    "    print(\"Termino con la calculadora? \")\n",
    "    #Variable Bandera\n",
    "    i= int(input(\"Si-1 No-0\"))\n",
    "#Este no se puede miss jajajaja no hay funcion sum en la libreria math, solamente operaciones complejas\n",
    "#Referencia\n",
    "#https://github.com/mayraberrones94/Ciencia_de_Datos/blob/master/Mineria-datos/Libros/Valentina%20Porcu%20-%20Python%20for%20Data%20Mining%20Quick%20Syntax%20Reference-Apress%20(2019).pdf"
   ]
  },
  {
   "cell_type": "code",
   "execution_count": 48,
   "metadata": {},
   "outputs": [
    {
     "name": "stdout",
     "output_type": "stream",
     "text": [
      "f=  <class 'float'>\n",
      "i=  <class 'int'>\n",
      "b=  <class 'bool'>\n",
      "c=  <class 'complex'>\n",
      "primer valor 1\n",
      "segundo valor 2\n",
      "Cual es la variable numero 1: 1\n"
     ]
    }
   ],
   "source": [
    "#Tuplas\n",
    "#Crear una variable flotante, integer, boleana y compleja e imprimir el tipo de variable que es.\n",
    "f= 4.20\n",
    "i= 4\n",
    "b= True\n",
    "c= 4-2j\n",
    "print(\"f= \", type(f))\n",
    "print(\"i= \", type(i))\n",
    "print(\"b= \", type(b))\n",
    "print(\"c= \", type(c))\n",
    "\n",
    "#Crear una tupla con valores enteros imprimir el primer y ultimo valor.\n",
    "tupla=(1,2)\n",
    "print(\"primer valor\",tupla[0])\n",
    "print(\"segundo valor\",tupla[1])\n",
    "#Añadir 3 valores de string a la tupla.\n",
    "tupla = tupla.__add__(('1', '1', '1'))\n",
    "#Verificar si una variable existe dentro de la tupla.\n",
    "print(\"Cual es la variable numero 1:\",tupla[0])\n"
   ]
  },
  {
   "cell_type": "code",
   "execution_count": 58,
   "metadata": {},
   "outputs": [],
   "source": [
    "#Listas\n",
    "#Crear una lista con 40 elementos aleatorios enteros.\n",
    "import random\n",
    "\n",
    "#Con una funcion (def) crear dos listas nuevas a partir de la lista creada por numeros aleatorios, en la cual en una esten los elementos pares, y en la otra los elementos impares.\n",
    "\n",
    "#Crear dos variables con la longitud de ambas listas nuevas e imprimir las variables.\n",
    "\n",
    "#Ordenar los elementos de la lista par de mayor a menor, y los de la lista impar de menor a mayor.\n",
    "\n",
    "#Utilizar al menos cuatro de las funciones de listas en python en la lista original de 40 elementos."
   ]
  },
  {
   "cell_type": "code",
   "execution_count": null,
   "metadata": {},
   "outputs": [],
   "source": [
    "#Diccionarios\n",
    "#Crear un diccionario de 6 personas que conozcas con su primer nombre y su edad.\n",
    "nombres={'Sofia':23,'Rebeca':19,'Victoria':20,'Alberto':19,'Andres':20,'Lemus':20}\n",
    "\n",
    "#Crear una lista con los valores de la edad y reacomodar la lista de menor a mayor valor.\n",
    "ordenados=sorted(nombres.values())\n",
    "\n",
    "#Usando el diccionario y un loop, imprimir solo los nombres.\n",
    "for nombres in nombres:\n",
    "    print(nombres)\n",
    "\n",
    "#Añadir dos personas nuevas a tu diccionario, incluyendo edad.\n",
    "#Referencia\n",
    "#https://devcode.la/tutoriales/diccionarios-en-python/"
   ]
  },
  {
   "cell_type": "code",
   "execution_count": null,
   "metadata": {},
   "outputs": [],
   "source": [
    "#Sets\n",
    "import random\n",
    "#Crea un set con 100 numeros aleatorios enteros del 1 al 25.\n",
    "set1=set()\n",
    "while len(set1)<100:\n",
    "    set1.add(random.randint(1,25))\n",
    "print(set1)\n",
    "\n",
    "#Comprueba la longitud de tu set.\n",
    "\n",
    "#Crea una lista de 5 numeros aleatorios del 1 al 10 y comprueba si cada valor aparece en el set inicial."
   ]
  },
  {
   "cell_type": "code",
   "execution_count": null,
   "metadata": {},
   "outputs": [],
   "source": []
  },
  {
   "cell_type": "code",
   "execution_count": null,
   "metadata": {},
   "outputs": [],
   "source": []
  }
 ],
 "metadata": {
  "kernelspec": {
   "display_name": "Python 3",
   "language": "python",
   "name": "python3"
  },
  "language_info": {
   "codemirror_mode": {
    "name": "ipython",
    "version": 3
   },
   "file_extension": ".py",
   "mimetype": "text/x-python",
   "name": "python",
   "nbconvert_exporter": "python",
   "pygments_lexer": "ipython3",
   "version": "3.8.5"
  }
 },
 "nbformat": 4,
 "nbformat_minor": 4
}
