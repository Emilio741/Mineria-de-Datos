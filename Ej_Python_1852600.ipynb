{
 "cells": [
  {
   "cell_type": "code",
   "execution_count": 1,
   "metadata": {},
   "outputs": [
    {
     "name": "stdout",
     "output_type": "stream",
     "text": [
      "Hola mundo\n"
     ]
    }
   ],
   "source": [
    "print(\"Hola mundo\")"
   ]
  },
  {
   "cell_type": "code",
   "execution_count": 35,
   "metadata": {},
   "outputs": [
    {
     "name": "stdout",
     "output_type": "stream",
     "text": [
      "Introduce tu nombre:Sofi\n",
      "Introduce tu matricula: 15\n",
      "Nombre:  Sofi Matricula 15\n"
     ]
    }
   ],
   "source": [
    "#Ejercicio 1\n",
    "#Realiza una variable con tu matricula y realiza una secuencia de imprimir con tu nombre y tu matricula concatenados.\n",
    "name = (input(\"Introduce tu nombre:\" ))\n",
    "b1 = int(input(\"Introduce tu matricula: \"))\n",
    "print (\"Nombre: \", name,\"Matricula\",b1)"
   ]
  },
  {
   "cell_type": "code",
   "execution_count": 36,
   "metadata": {},
   "outputs": [
    {
     "name": "stdout",
     "output_type": "stream",
     "text": [
      "Introduce el primer número: 2\n",
      "Introduce el segundo número: 2\n",
      "Introduce que operación ocupa\n",
      "1-Suma 2- Resta 3 -Multiplicacion 4-Division 5 -Exponente 3\n",
      "Resultado\n",
      "4\n",
      "Termino con la calculadora? \n",
      "Si-1 No-00\n",
      "Introduce que operación ocupa\n",
      "1-Suma 2- Resta 3 -Multiplicacion 4-Division 5 -Exponente 4\n",
      "Resultado\n",
      "1.0\n",
      "Termino con la calculadora? \n",
      "Si-1 No-01\n"
     ]
    }
   ],
   "source": [
    "#Ejercicio 2\n",
    "#Pidiendo el input del usuario pide dos números \n",
    "#y crea una pequeña calculadora con los operadores básicos de suma, resta, multiplicación, división, y exponente.\n",
    "#Utilizando el loop de while\n",
    "a1 = int(input(\"Introduce el primer número: \"))\n",
    "b1 = int(input(\"Introduce el segundo número: \"))\n",
    "#variable decision\n",
    "i=0\n",
    "while i == 0 :\n",
    "    #Variable de calculadora\n",
    "    op=0\n",
    "    print(\"Introduce que operación ocupa\")\n",
    "    op= int(input(\"1-Suma 2- Resta 3 -Multiplicacion 4-Division 5 -Exponente \"))\n",
    "    #Este es un switch para determinar cual operacion se ocupa\n",
    "    if op==1:\n",
    "        c= a1+b1\n",
    "        print(\"Resultado\")\n",
    "        print(c)\n",
    "    if op==2:\n",
    "        c= a1-b1\n",
    "        print(\"Resultado\")\n",
    "        print(c)\n",
    "    if op==3:\n",
    "        c= a1*b1\n",
    "        print(\"Resultado\")\n",
    "        print(c)\n",
    "    if op==4:\n",
    "        if b1==0:\n",
    "            print(\"No es posible hacer la operacion\")\n",
    "        else:\n",
    "            print(\"Resultado\")\n",
    "            c= a1/b1\n",
    "            print(c)\n",
    "    if op==5:\n",
    "        #** es exponencial\n",
    "        c= a1**b1\n",
    "        print(\"Resultado\")\n",
    "        print(c)\n",
    "    print(\"Termino con la calculadora? \")\n",
    "    #Variable Bandera\n",
    "    i= int(input(\"Si-1 No-0\"))"
   ]
  },
  {
   "cell_type": "code",
   "execution_count": 105,
   "metadata": {},
   "outputs": [
    {
     "name": "stdout",
     "output_type": "stream",
     "text": [
      "Acumulado 165\n"
     ]
    }
   ],
   "source": [
    "#Ejercicio 3\n",
    "#Con loop while o for, realiza una lista de 10 numeros multiplos de 3, \n",
    "#y después realiza una función de loop que sume todos los números dentro del arreglo.\n",
    "lista=[1,2,3,4,5,6,7,8,9,10]\n",
    "a=0\n",
    "i=0\n",
    "while i !=10 :\n",
    "    a=a+1\n",
    "    if a%3 == 0 :\n",
    "        lista[i] = a\n",
    "        i=i+1\n",
    "i=0\n",
    "acum=0\n",
    "while i !=10 :\n",
    "    acum=lista[i]+acum\n",
    "    i=i+1\n",
    "print(\"Acumulado\",acum)"
   ]
  },
  {
   "cell_type": "markdown",
   "metadata": {},
   "source": [
    "# "
   ]
  },
  {
   "cell_type": "code",
   "execution_count": 109,
   "metadata": {},
   "outputs": [
    {
     "name": "stdout",
     "output_type": "stream",
     "text": [
      "Introduce el numero a checar3\n",
      "Es impar\n"
     ]
    }
   ],
   "source": [
    "#Ejercicio 4\n",
    "#Con una función de if else, revisar si un número es par o es impar.\n",
    "#Con una función de if else, revisar si un número es primo o no.\n",
    "a= int(input(\"Introduce el numero a checar\"))\n",
    "if a%2 == 0:\n",
    "    print(\"Es par\")\n",
    "if a%3 == 0:\n",
    "    print(\"Es impar\")"
   ]
  },
  {
   "cell_type": "code",
   "execution_count": 6,
   "metadata": {},
   "outputs": [
    {
     "ename": "AttributeError",
     "evalue": "module 'math' has no attribute 'sum'",
     "output_type": "error",
     "traceback": [
      "\u001b[1;31m---------------------------------------------------------------------------\u001b[0m",
      "\u001b[1;31mAttributeError\u001b[0m                            Traceback (most recent call last)",
      "\u001b[1;32m<ipython-input-6-c90eb57bb8f0>\u001b[0m in \u001b[0;36m<module>\u001b[1;34m\u001b[0m\n\u001b[0;32m      5\u001b[0m \u001b[1;33m\u001b[0m\u001b[0m\n\u001b[0;32m      6\u001b[0m \u001b[1;32mimport\u001b[0m \u001b[0mmath\u001b[0m \u001b[1;32mas\u001b[0m \u001b[0mm\u001b[0m\u001b[1;33m\u001b[0m\u001b[1;33m\u001b[0m\u001b[0m\n\u001b[1;32m----> 7\u001b[1;33m \u001b[0mprint\u001b[0m\u001b[1;33m(\u001b[0m\u001b[0mm\u001b[0m\u001b[1;33m.\u001b[0m\u001b[0msum\u001b[0m\u001b[1;33m(\u001b[0m\u001b[1;36m2\u001b[0m\u001b[1;33m,\u001b[0m\u001b[1;36m2\u001b[0m\u001b[1;33m)\u001b[0m\u001b[1;33m)\u001b[0m\u001b[1;33m\u001b[0m\u001b[1;33m\u001b[0m\u001b[0m\n\u001b[0m\u001b[0;32m      8\u001b[0m \u001b[1;31m#Este no se puede miss jajajaja no hay funcion sum en la libreria math, solamente operaciones complejas\u001b[0m\u001b[1;33m\u001b[0m\u001b[1;33m\u001b[0m\u001b[1;33m\u001b[0m\u001b[0m\n",
      "\u001b[1;31mAttributeError\u001b[0m: module 'math' has no attribute 'sum'"
     ]
    }
   ],
   "source": [
    "#Ejecicio 5\n",
    "#Utilizando diferentes clases en python, crea una calculadora con los operadores básicos de suma, \n",
    "#resta, multiplicación, división, y exponente.\n",
    "#Funciones matemáticas en la librería de math en python:\n",
    "\n",
    "import math as m\n",
    "print(m.sum(2,2))\n",
    "#Este no se puede miss jajajaja no hay funcion sum en la libreria math, solamente operaciones complejas"
   ]
  },
  {
   "cell_type": "code",
   "execution_count": 14,
   "metadata": {},
   "outputs": [
    {
     "name": "stdout",
     "output_type": "stream",
     "text": [
      "f=  <class 'float'>\n",
      "i=  <class 'int'>\n",
      "b=  <class 'bool'>\n",
      "c=  <class 'complex'>\n",
      "primer valor 1\n",
      "segundo valor 2\n"
     ]
    },
    {
     "ename": "AttributeError",
     "evalue": "'tuple' object has no attribute '_add_'",
     "output_type": "error",
     "traceback": [
      "\u001b[1;31m---------------------------------------------------------------------------\u001b[0m",
      "\u001b[1;31mAttributeError\u001b[0m                            Traceback (most recent call last)",
      "\u001b[1;32m<ipython-input-14-51c245f6cc36>\u001b[0m in \u001b[0;36m<module>\u001b[1;34m\u001b[0m\n\u001b[0;32m     15\u001b[0m \u001b[0mprint\u001b[0m\u001b[1;33m(\u001b[0m\u001b[1;34m\"segundo valor\"\u001b[0m\u001b[1;33m,\u001b[0m\u001b[0mtupla\u001b[0m\u001b[1;33m[\u001b[0m\u001b[1;36m1\u001b[0m\u001b[1;33m]\u001b[0m\u001b[1;33m)\u001b[0m\u001b[1;33m\u001b[0m\u001b[1;33m\u001b[0m\u001b[0m\n\u001b[0;32m     16\u001b[0m \u001b[1;31m#Añadir 3 valores de string a la tupla.\u001b[0m\u001b[1;33m\u001b[0m\u001b[1;33m\u001b[0m\u001b[1;33m\u001b[0m\u001b[0m\n\u001b[1;32m---> 17\u001b[1;33m \u001b[0mtupla\u001b[0m \u001b[1;33m=\u001b[0m \u001b[0mtupla\u001b[0m\u001b[1;33m.\u001b[0m\u001b[0m_add_\u001b[0m\u001b[1;33m(\u001b[0m\u001b[1;33m(\u001b[0m\u001b[1;34m'hola'\u001b[0m\u001b[1;33m,\u001b[0m \u001b[1;34m'como'\u001b[0m\u001b[1;33m,\u001b[0m \u001b[1;34m'estas'\u001b[0m\u001b[1;33m)\u001b[0m\u001b[1;33m)\u001b[0m\u001b[1;33m\u001b[0m\u001b[1;33m\u001b[0m\u001b[0m\n\u001b[0m\u001b[0;32m     18\u001b[0m \u001b[1;31m#Verificar si una variable existe dentro de la tupla.\u001b[0m\u001b[1;33m\u001b[0m\u001b[1;33m\u001b[0m\u001b[1;33m\u001b[0m\u001b[0m\n",
      "\u001b[1;31mAttributeError\u001b[0m: 'tuple' object has no attribute '_add_'"
     ]
    }
   ],
   "source": [
    "#Tuplas\n",
    "#Crear una variable flotante, integer, boleana y compleja e imprimir el tipo de variable que es.\n",
    "f= 6.9\n",
    "i= 4\n",
    "b= True\n",
    "c= 4-2j\n",
    "print(\"f= \", type(f))\n",
    "print(\"i= \", type(i))\n",
    "print(\"b= \", type(b))\n",
    "print(\"c= \", type(c))\n",
    "\n",
    "#Crear una tupla con valores enteros imprimir el primer y ultimo valor.\n",
    "tupla=(1,2)\n",
    "print(\"primer valor\",tupla[0])\n",
    "print(\"segundo valor\",tupla[1])\n",
    "#Añadir 3 valores de string a la tupla.\n",
    "tupla = tupla._add_(('hola', 'como', 'estas'))\n",
    "#Verificar si una variable existe dentro de la tupla.\n"
   ]
  },
  {
   "cell_type": "code",
   "execution_count": 10,
   "metadata": {},
   "outputs": [],
   "source": [
    "#Listas\n",
    "#Crear una lista con 40 elementos aleatorios enteros.\n",
    "\n",
    "#Con una funcion (def) crear dos listas nuevas a partir de la lista creada por numeros aleatorios, en la cual en una esten los elementos pares, y en la otra los elementos impares.\n",
    "\n",
    "#Crear dos variables con la longitud de ambas listas nuevas e imprimir las variables.\n",
    "\n",
    "#Ordenar los elementos de la lista par de mayor a menor, y los de la lista impar de menor a mayor.\n",
    "\n",
    "#Utilizar al menos cuatro de las funciones de listas en python en la lista original de 40 elementos."
   ]
  },
  {
   "cell_type": "code",
   "execution_count": 11,
   "metadata": {},
   "outputs": [],
   "source": [
    "#Diccionarios\n",
    "#Crear un diccionario de 6 personas que conozcas con su primer nombre y su edad.\n",
    "\n",
    "#Crear una lista con los valores de la edad y reacomodar la lista de menor a mayor valor.\n",
    "\n",
    "#Usando el diccionario y un loop, imprimir solo los nombres.\n",
    "\n",
    "#Añadir dos personas nuevas a tu diccionario, incluyendo edad."
   ]
  },
  {
   "cell_type": "code",
   "execution_count": null,
   "metadata": {},
   "outputs": [],
   "source": [
    "#Sets\n",
    "#Crea un set con 100 numeros aleatorios enteros del 1 al 25.\n",
    "\n",
    "#Comprueba la longitud de tu set.\n",
    "\n",
    "#Crea una lista de 5 numeros aleatorios del 1 al 10 y comprueba si cada valor aparece en el set inicial."
   ]
  }
 ],
 "metadata": {
  "kernelspec": {
   "display_name": "Python 3",
   "language": "python",
   "name": "python3"
  },
  "language_info": {
   "codemirror_mode": {
    "name": "ipython",
    "version": 3
   },
   "file_extension": ".py",
   "mimetype": "text/x-python",
   "name": "python",
   "nbconvert_exporter": "python",
   "pygments_lexer": "ipython3",
   "version": "3.8.5"
  }
 },
 "nbformat": 4,
 "nbformat_minor": 4
}
