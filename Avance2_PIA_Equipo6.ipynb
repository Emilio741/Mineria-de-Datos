{
 "cells": [
  {
   "cell_type": "markdown",
   "metadata": {},
   "source": [
    "# Avance Pia 2\n",
    "## Grupo 002 Clase del Miercoles\n",
    "1679700 Salazar Coronado,Sofia\n",
    "\n",
    "1941534 Chavez Peña,Andres\n",
    "\n",
    "1852600 Lemus Morales,Ricardo Emilio\n",
    "## I) Datos\n",
    "### 1) Título de la base de datos.\n",
    "\n",
    "Credit Card customers\n",
    "\n",
    "### 2) URL\n",
    "https://www.kaggle.com/sakshigoyal7/credit-card-customers\n",
    "\n",
    "### 3) Descripción de los datos\n",
    "\n",
    "Esta base muestra los datos de los clientes que cuentan con una tarjeta de crédito. Indica su edad, escolaridad, género, ingresos mensuales, transacciones, entre otros. El análisis de esos datos puede ayudar a las compañías a tener una idea de cómo funciona el mercado de las personas que cuentan con una tarjeta de crédito. También puede ser utilizado para tomar en cuenta el rango de edades que la utilizan más, para ofrecer algún tipo de producto o servicio. \n",
    "\n",
    "### 4) Justificación:\n",
    "\n",
    "La base de datos viene ordenada de una manera muy práctica y útil, lo que nos permite hacer un análisis con mayor facilidad. También vienen los gastos e ingresos por persona, estos los podemos comparar para analizar si existe alguna relación entre ambos. Se pueden comparar también los salarios por género y edad, para ver si en esta base se nota una desigualdad o si no es un problema en esta población. Igual al analizar el número de transacciones, se puede crear una estrategia para intentar llegar a estas personas, las cuales tienen una mayor probabilidad de utilizar la tarjeta para obtener un producto o servicio.\t\n",
    "### Objetivos Principales\n",
    "\n",
    "Analizar los ingresos entre ambos géneros para compararlos y observar si existe alguna desigualdad.\n",
    "\n",
    "Analizar si el número de transacciones depende de la educacion que tiene.\n",
    "### Objetivos Secundarios\n",
    "Encontrar los factores que afectan la cantidad de crédito otorgado a los clientes.\n",
    "\n",
    "Observar si la cantidad de dependientes por clientes influye en el total de transacciones realizadas.\n",
    "\n",
    "### Preguntas de Interés\n",
    "¿Si los ingresos son diferentes, afecta también la cantidad de transacciones?\n",
    "\n",
    "\n",
    "¿Los clientes varian sus transacciones dependiendo de su eduación?"
   ]
  },
  {
   "cell_type": "markdown",
   "metadata": {},
   "source": [
    "## II Datos\n",
    "Desarrollo de las herramientas. (Requisitos)\n",
    "\n",
    "a)Mostrar los datos sin manipulación.\n",
    "\t\t\n"
   ]
  },
  {
   "cell_type": "code",
   "execution_count": 33,
   "metadata": {},
   "outputs": [
    {
     "data": {
      "text/html": [
       "<div>\n",
       "<style scoped>\n",
       "    .dataframe tbody tr th:only-of-type {\n",
       "        vertical-align: middle;\n",
       "    }\n",
       "\n",
       "    .dataframe tbody tr th {\n",
       "        vertical-align: top;\n",
       "    }\n",
       "\n",
       "    .dataframe thead th {\n",
       "        text-align: right;\n",
       "    }\n",
       "</style>\n",
       "<table border=\"1\" class=\"dataframe\">\n",
       "  <thead>\n",
       "    <tr style=\"text-align: right;\">\n",
       "      <th></th>\n",
       "      <th>CLIENTNUM</th>\n",
       "      <th>Attrition_Flag</th>\n",
       "      <th>Customer_Age</th>\n",
       "      <th>Gender</th>\n",
       "      <th>Dependent_count</th>\n",
       "      <th>Education_Level</th>\n",
       "      <th>Marital_Status</th>\n",
       "      <th>Income_Category</th>\n",
       "      <th>Card_Category</th>\n",
       "      <th>Months_on_book</th>\n",
       "      <th>...</th>\n",
       "      <th>Credit_Limit</th>\n",
       "      <th>Total_Revolving_Bal</th>\n",
       "      <th>Avg_Open_To_Buy</th>\n",
       "      <th>Total_Amt_Chng_Q4_Q1</th>\n",
       "      <th>Total_Trans_Amt</th>\n",
       "      <th>Total_Trans_Ct</th>\n",
       "      <th>Total_Ct_Chng_Q4_Q1</th>\n",
       "      <th>Avg_Utilization_Ratio</th>\n",
       "      <th>Naive_Bayes_Classifier_Attrition_Flag_Card_Category_Contacts_Count_12_mon_Dependent_count_Education_Level_Months_Inactive_12_mon_1</th>\n",
       "      <th>Naive_Bayes_Classifier_Attrition_Flag_Card_Category_Contacts_Count_12_mon_Dependent_count_Education_Level_Months_Inactive_12_mon_2</th>\n",
       "    </tr>\n",
       "  </thead>\n",
       "  <tbody>\n",
       "    <tr>\n",
       "      <th>0</th>\n",
       "      <td>768805383</td>\n",
       "      <td>Existing Customer</td>\n",
       "      <td>45</td>\n",
       "      <td>M</td>\n",
       "      <td>3</td>\n",
       "      <td>High School</td>\n",
       "      <td>Married</td>\n",
       "      <td>$60K - $80K</td>\n",
       "      <td>Blue</td>\n",
       "      <td>39</td>\n",
       "      <td>...</td>\n",
       "      <td>12691.0</td>\n",
       "      <td>777</td>\n",
       "      <td>11914.0</td>\n",
       "      <td>1.335</td>\n",
       "      <td>1144</td>\n",
       "      <td>42</td>\n",
       "      <td>1.625</td>\n",
       "      <td>0.061</td>\n",
       "      <td>0.000093</td>\n",
       "      <td>0.999910</td>\n",
       "    </tr>\n",
       "    <tr>\n",
       "      <th>1</th>\n",
       "      <td>818770008</td>\n",
       "      <td>Existing Customer</td>\n",
       "      <td>49</td>\n",
       "      <td>F</td>\n",
       "      <td>5</td>\n",
       "      <td>Graduate</td>\n",
       "      <td>Single</td>\n",
       "      <td>Less than $40K</td>\n",
       "      <td>Blue</td>\n",
       "      <td>44</td>\n",
       "      <td>...</td>\n",
       "      <td>8256.0</td>\n",
       "      <td>864</td>\n",
       "      <td>7392.0</td>\n",
       "      <td>1.541</td>\n",
       "      <td>1291</td>\n",
       "      <td>33</td>\n",
       "      <td>3.714</td>\n",
       "      <td>0.105</td>\n",
       "      <td>0.000057</td>\n",
       "      <td>0.999940</td>\n",
       "    </tr>\n",
       "    <tr>\n",
       "      <th>2</th>\n",
       "      <td>713982108</td>\n",
       "      <td>Existing Customer</td>\n",
       "      <td>51</td>\n",
       "      <td>M</td>\n",
       "      <td>3</td>\n",
       "      <td>Graduate</td>\n",
       "      <td>Married</td>\n",
       "      <td>$80K - $120K</td>\n",
       "      <td>Blue</td>\n",
       "      <td>36</td>\n",
       "      <td>...</td>\n",
       "      <td>3418.0</td>\n",
       "      <td>0</td>\n",
       "      <td>3418.0</td>\n",
       "      <td>2.594</td>\n",
       "      <td>1887</td>\n",
       "      <td>20</td>\n",
       "      <td>2.333</td>\n",
       "      <td>0.000</td>\n",
       "      <td>0.000021</td>\n",
       "      <td>0.999980</td>\n",
       "    </tr>\n",
       "    <tr>\n",
       "      <th>3</th>\n",
       "      <td>769911858</td>\n",
       "      <td>Existing Customer</td>\n",
       "      <td>40</td>\n",
       "      <td>F</td>\n",
       "      <td>4</td>\n",
       "      <td>High School</td>\n",
       "      <td>Unknown</td>\n",
       "      <td>Less than $40K</td>\n",
       "      <td>Blue</td>\n",
       "      <td>34</td>\n",
       "      <td>...</td>\n",
       "      <td>3313.0</td>\n",
       "      <td>2517</td>\n",
       "      <td>796.0</td>\n",
       "      <td>1.405</td>\n",
       "      <td>1171</td>\n",
       "      <td>20</td>\n",
       "      <td>2.333</td>\n",
       "      <td>0.760</td>\n",
       "      <td>0.000134</td>\n",
       "      <td>0.999870</td>\n",
       "    </tr>\n",
       "    <tr>\n",
       "      <th>4</th>\n",
       "      <td>709106358</td>\n",
       "      <td>Existing Customer</td>\n",
       "      <td>40</td>\n",
       "      <td>M</td>\n",
       "      <td>3</td>\n",
       "      <td>Uneducated</td>\n",
       "      <td>Married</td>\n",
       "      <td>$60K - $80K</td>\n",
       "      <td>Blue</td>\n",
       "      <td>21</td>\n",
       "      <td>...</td>\n",
       "      <td>4716.0</td>\n",
       "      <td>0</td>\n",
       "      <td>4716.0</td>\n",
       "      <td>2.175</td>\n",
       "      <td>816</td>\n",
       "      <td>28</td>\n",
       "      <td>2.500</td>\n",
       "      <td>0.000</td>\n",
       "      <td>0.000022</td>\n",
       "      <td>0.999980</td>\n",
       "    </tr>\n",
       "    <tr>\n",
       "      <th>...</th>\n",
       "      <td>...</td>\n",
       "      <td>...</td>\n",
       "      <td>...</td>\n",
       "      <td>...</td>\n",
       "      <td>...</td>\n",
       "      <td>...</td>\n",
       "      <td>...</td>\n",
       "      <td>...</td>\n",
       "      <td>...</td>\n",
       "      <td>...</td>\n",
       "      <td>...</td>\n",
       "      <td>...</td>\n",
       "      <td>...</td>\n",
       "      <td>...</td>\n",
       "      <td>...</td>\n",
       "      <td>...</td>\n",
       "      <td>...</td>\n",
       "      <td>...</td>\n",
       "      <td>...</td>\n",
       "      <td>...</td>\n",
       "      <td>...</td>\n",
       "    </tr>\n",
       "    <tr>\n",
       "      <th>10122</th>\n",
       "      <td>772366833</td>\n",
       "      <td>Existing Customer</td>\n",
       "      <td>50</td>\n",
       "      <td>M</td>\n",
       "      <td>2</td>\n",
       "      <td>Graduate</td>\n",
       "      <td>Single</td>\n",
       "      <td>$40K - $60K</td>\n",
       "      <td>Blue</td>\n",
       "      <td>40</td>\n",
       "      <td>...</td>\n",
       "      <td>4003.0</td>\n",
       "      <td>1851</td>\n",
       "      <td>2152.0</td>\n",
       "      <td>0.703</td>\n",
       "      <td>15476</td>\n",
       "      <td>117</td>\n",
       "      <td>0.857</td>\n",
       "      <td>0.462</td>\n",
       "      <td>0.000191</td>\n",
       "      <td>0.999810</td>\n",
       "    </tr>\n",
       "    <tr>\n",
       "      <th>10123</th>\n",
       "      <td>710638233</td>\n",
       "      <td>Attrited Customer</td>\n",
       "      <td>41</td>\n",
       "      <td>M</td>\n",
       "      <td>2</td>\n",
       "      <td>Unknown</td>\n",
       "      <td>Divorced</td>\n",
       "      <td>$40K - $60K</td>\n",
       "      <td>Blue</td>\n",
       "      <td>25</td>\n",
       "      <td>...</td>\n",
       "      <td>4277.0</td>\n",
       "      <td>2186</td>\n",
       "      <td>2091.0</td>\n",
       "      <td>0.804</td>\n",
       "      <td>8764</td>\n",
       "      <td>69</td>\n",
       "      <td>0.683</td>\n",
       "      <td>0.511</td>\n",
       "      <td>0.995270</td>\n",
       "      <td>0.004729</td>\n",
       "    </tr>\n",
       "    <tr>\n",
       "      <th>10124</th>\n",
       "      <td>716506083</td>\n",
       "      <td>Attrited Customer</td>\n",
       "      <td>44</td>\n",
       "      <td>F</td>\n",
       "      <td>1</td>\n",
       "      <td>High School</td>\n",
       "      <td>Married</td>\n",
       "      <td>Less than $40K</td>\n",
       "      <td>Blue</td>\n",
       "      <td>36</td>\n",
       "      <td>...</td>\n",
       "      <td>5409.0</td>\n",
       "      <td>0</td>\n",
       "      <td>5409.0</td>\n",
       "      <td>0.819</td>\n",
       "      <td>10291</td>\n",
       "      <td>60</td>\n",
       "      <td>0.818</td>\n",
       "      <td>0.000</td>\n",
       "      <td>0.997880</td>\n",
       "      <td>0.002118</td>\n",
       "    </tr>\n",
       "    <tr>\n",
       "      <th>10125</th>\n",
       "      <td>717406983</td>\n",
       "      <td>Attrited Customer</td>\n",
       "      <td>30</td>\n",
       "      <td>M</td>\n",
       "      <td>2</td>\n",
       "      <td>Graduate</td>\n",
       "      <td>Unknown</td>\n",
       "      <td>$40K - $60K</td>\n",
       "      <td>Blue</td>\n",
       "      <td>36</td>\n",
       "      <td>...</td>\n",
       "      <td>5281.0</td>\n",
       "      <td>0</td>\n",
       "      <td>5281.0</td>\n",
       "      <td>0.535</td>\n",
       "      <td>8395</td>\n",
       "      <td>62</td>\n",
       "      <td>0.722</td>\n",
       "      <td>0.000</td>\n",
       "      <td>0.996710</td>\n",
       "      <td>0.003294</td>\n",
       "    </tr>\n",
       "    <tr>\n",
       "      <th>10126</th>\n",
       "      <td>714337233</td>\n",
       "      <td>Attrited Customer</td>\n",
       "      <td>43</td>\n",
       "      <td>F</td>\n",
       "      <td>2</td>\n",
       "      <td>Graduate</td>\n",
       "      <td>Married</td>\n",
       "      <td>Less than $40K</td>\n",
       "      <td>Silver</td>\n",
       "      <td>25</td>\n",
       "      <td>...</td>\n",
       "      <td>10388.0</td>\n",
       "      <td>1961</td>\n",
       "      <td>8427.0</td>\n",
       "      <td>0.703</td>\n",
       "      <td>10294</td>\n",
       "      <td>61</td>\n",
       "      <td>0.649</td>\n",
       "      <td>0.189</td>\n",
       "      <td>0.996620</td>\n",
       "      <td>0.003377</td>\n",
       "    </tr>\n",
       "  </tbody>\n",
       "</table>\n",
       "<p>10127 rows × 23 columns</p>\n",
       "</div>"
      ],
      "text/plain": [
       "       CLIENTNUM     Attrition_Flag  Customer_Age Gender  Dependent_count  \\\n",
       "0      768805383  Existing Customer            45      M                3   \n",
       "1      818770008  Existing Customer            49      F                5   \n",
       "2      713982108  Existing Customer            51      M                3   \n",
       "3      769911858  Existing Customer            40      F                4   \n",
       "4      709106358  Existing Customer            40      M                3   \n",
       "...          ...                ...           ...    ...              ...   \n",
       "10122  772366833  Existing Customer            50      M                2   \n",
       "10123  710638233  Attrited Customer            41      M                2   \n",
       "10124  716506083  Attrited Customer            44      F                1   \n",
       "10125  717406983  Attrited Customer            30      M                2   \n",
       "10126  714337233  Attrited Customer            43      F                2   \n",
       "\n",
       "      Education_Level Marital_Status Income_Category Card_Category  \\\n",
       "0         High School        Married     $60K - $80K          Blue   \n",
       "1            Graduate         Single  Less than $40K          Blue   \n",
       "2            Graduate        Married    $80K - $120K          Blue   \n",
       "3         High School        Unknown  Less than $40K          Blue   \n",
       "4          Uneducated        Married     $60K - $80K          Blue   \n",
       "...               ...            ...             ...           ...   \n",
       "10122        Graduate         Single     $40K - $60K          Blue   \n",
       "10123         Unknown       Divorced     $40K - $60K          Blue   \n",
       "10124     High School        Married  Less than $40K          Blue   \n",
       "10125        Graduate        Unknown     $40K - $60K          Blue   \n",
       "10126        Graduate        Married  Less than $40K        Silver   \n",
       "\n",
       "       Months_on_book  ...  Credit_Limit  Total_Revolving_Bal  \\\n",
       "0                  39  ...       12691.0                  777   \n",
       "1                  44  ...        8256.0                  864   \n",
       "2                  36  ...        3418.0                    0   \n",
       "3                  34  ...        3313.0                 2517   \n",
       "4                  21  ...        4716.0                    0   \n",
       "...               ...  ...           ...                  ...   \n",
       "10122              40  ...        4003.0                 1851   \n",
       "10123              25  ...        4277.0                 2186   \n",
       "10124              36  ...        5409.0                    0   \n",
       "10125              36  ...        5281.0                    0   \n",
       "10126              25  ...       10388.0                 1961   \n",
       "\n",
       "       Avg_Open_To_Buy  Total_Amt_Chng_Q4_Q1  Total_Trans_Amt  Total_Trans_Ct  \\\n",
       "0              11914.0                 1.335             1144              42   \n",
       "1               7392.0                 1.541             1291              33   \n",
       "2               3418.0                 2.594             1887              20   \n",
       "3                796.0                 1.405             1171              20   \n",
       "4               4716.0                 2.175              816              28   \n",
       "...                ...                   ...              ...             ...   \n",
       "10122           2152.0                 0.703            15476             117   \n",
       "10123           2091.0                 0.804             8764              69   \n",
       "10124           5409.0                 0.819            10291              60   \n",
       "10125           5281.0                 0.535             8395              62   \n",
       "10126           8427.0                 0.703            10294              61   \n",
       "\n",
       "       Total_Ct_Chng_Q4_Q1  Avg_Utilization_Ratio  \\\n",
       "0                    1.625                  0.061   \n",
       "1                    3.714                  0.105   \n",
       "2                    2.333                  0.000   \n",
       "3                    2.333                  0.760   \n",
       "4                    2.500                  0.000   \n",
       "...                    ...                    ...   \n",
       "10122                0.857                  0.462   \n",
       "10123                0.683                  0.511   \n",
       "10124                0.818                  0.000   \n",
       "10125                0.722                  0.000   \n",
       "10126                0.649                  0.189   \n",
       "\n",
       "       Naive_Bayes_Classifier_Attrition_Flag_Card_Category_Contacts_Count_12_mon_Dependent_count_Education_Level_Months_Inactive_12_mon_1  \\\n",
       "0                                               0.000093                                                                                    \n",
       "1                                               0.000057                                                                                    \n",
       "2                                               0.000021                                                                                    \n",
       "3                                               0.000134                                                                                    \n",
       "4                                               0.000022                                                                                    \n",
       "...                                                  ...                                                                                    \n",
       "10122                                           0.000191                                                                                    \n",
       "10123                                           0.995270                                                                                    \n",
       "10124                                           0.997880                                                                                    \n",
       "10125                                           0.996710                                                                                    \n",
       "10126                                           0.996620                                                                                    \n",
       "\n",
       "       Naive_Bayes_Classifier_Attrition_Flag_Card_Category_Contacts_Count_12_mon_Dependent_count_Education_Level_Months_Inactive_12_mon_2  \n",
       "0                                               0.999910                                                                                   \n",
       "1                                               0.999940                                                                                   \n",
       "2                                               0.999980                                                                                   \n",
       "3                                               0.999870                                                                                   \n",
       "4                                               0.999980                                                                                   \n",
       "...                                                  ...                                                                                   \n",
       "10122                                           0.999810                                                                                   \n",
       "10123                                           0.004729                                                                                   \n",
       "10124                                           0.002118                                                                                   \n",
       "10125                                           0.003294                                                                                   \n",
       "10126                                           0.003377                                                                                   \n",
       "\n",
       "[10127 rows x 23 columns]"
      ]
     },
     "execution_count": 33,
     "metadata": {},
     "output_type": "execute_result"
    }
   ],
   "source": [
    "import pandas as pd\n",
    "import numpy as np\n",
    "import json\n",
    "import seaborn as sns\n",
    "import matplotlib.pyplot as plt\n",
    "base1 = pd.read_csv(\"file:///Users/EmilioLemus/Downloads/2021/6to%20sem/mineria_datos/BankChurners.csv\")\n",
    "base1"
   ]
  },
  {
   "cell_type": "markdown",
   "metadata": {},
   "source": [
    "b)Eliminar columnas no deseadas. "
   ]
  },
  {
   "cell_type": "code",
   "execution_count": 36,
   "metadata": {
    "scrolled": false
   },
   "outputs": [
    {
     "data": {
      "text/html": [
       "<div>\n",
       "<style scoped>\n",
       "    .dataframe tbody tr th:only-of-type {\n",
       "        vertical-align: middle;\n",
       "    }\n",
       "\n",
       "    .dataframe tbody tr th {\n",
       "        vertical-align: top;\n",
       "    }\n",
       "\n",
       "    .dataframe thead th {\n",
       "        text-align: right;\n",
       "    }\n",
       "</style>\n",
       "<table border=\"1\" class=\"dataframe\">\n",
       "  <thead>\n",
       "    <tr style=\"text-align: right;\">\n",
       "      <th></th>\n",
       "      <th>Customer_Age</th>\n",
       "      <th>Gender</th>\n",
       "      <th>Education_Level</th>\n",
       "      <th>Marital_Status</th>\n",
       "      <th>Income_Category</th>\n",
       "      <th>Card_Category</th>\n",
       "      <th>Months_Inactive_12_mon</th>\n",
       "      <th>Credit_Limit</th>\n",
       "      <th>Total_Trans_Amt</th>\n",
       "      <th>Total_Trans_Ct</th>\n",
       "    </tr>\n",
       "  </thead>\n",
       "  <tbody>\n",
       "    <tr>\n",
       "      <th>0</th>\n",
       "      <td>45</td>\n",
       "      <td>M</td>\n",
       "      <td>High School</td>\n",
       "      <td>Married</td>\n",
       "      <td>$60K - $80K</td>\n",
       "      <td>Blue</td>\n",
       "      <td>1</td>\n",
       "      <td>12691.0</td>\n",
       "      <td>1144</td>\n",
       "      <td>42</td>\n",
       "    </tr>\n",
       "    <tr>\n",
       "      <th>1</th>\n",
       "      <td>49</td>\n",
       "      <td>F</td>\n",
       "      <td>Graduate</td>\n",
       "      <td>Single</td>\n",
       "      <td>Less than $40K</td>\n",
       "      <td>Blue</td>\n",
       "      <td>1</td>\n",
       "      <td>8256.0</td>\n",
       "      <td>1291</td>\n",
       "      <td>33</td>\n",
       "    </tr>\n",
       "    <tr>\n",
       "      <th>2</th>\n",
       "      <td>51</td>\n",
       "      <td>M</td>\n",
       "      <td>Graduate</td>\n",
       "      <td>Married</td>\n",
       "      <td>$80K - $120K</td>\n",
       "      <td>Blue</td>\n",
       "      <td>1</td>\n",
       "      <td>3418.0</td>\n",
       "      <td>1887</td>\n",
       "      <td>20</td>\n",
       "    </tr>\n",
       "    <tr>\n",
       "      <th>3</th>\n",
       "      <td>40</td>\n",
       "      <td>F</td>\n",
       "      <td>High School</td>\n",
       "      <td>Unknown</td>\n",
       "      <td>Less than $40K</td>\n",
       "      <td>Blue</td>\n",
       "      <td>4</td>\n",
       "      <td>3313.0</td>\n",
       "      <td>1171</td>\n",
       "      <td>20</td>\n",
       "    </tr>\n",
       "    <tr>\n",
       "      <th>4</th>\n",
       "      <td>40</td>\n",
       "      <td>M</td>\n",
       "      <td>Uneducated</td>\n",
       "      <td>Married</td>\n",
       "      <td>$60K - $80K</td>\n",
       "      <td>Blue</td>\n",
       "      <td>1</td>\n",
       "      <td>4716.0</td>\n",
       "      <td>816</td>\n",
       "      <td>28</td>\n",
       "    </tr>\n",
       "    <tr>\n",
       "      <th>...</th>\n",
       "      <td>...</td>\n",
       "      <td>...</td>\n",
       "      <td>...</td>\n",
       "      <td>...</td>\n",
       "      <td>...</td>\n",
       "      <td>...</td>\n",
       "      <td>...</td>\n",
       "      <td>...</td>\n",
       "      <td>...</td>\n",
       "      <td>...</td>\n",
       "    </tr>\n",
       "    <tr>\n",
       "      <th>10122</th>\n",
       "      <td>50</td>\n",
       "      <td>M</td>\n",
       "      <td>Graduate</td>\n",
       "      <td>Single</td>\n",
       "      <td>$40K - $60K</td>\n",
       "      <td>Blue</td>\n",
       "      <td>2</td>\n",
       "      <td>4003.0</td>\n",
       "      <td>15476</td>\n",
       "      <td>117</td>\n",
       "    </tr>\n",
       "    <tr>\n",
       "      <th>10123</th>\n",
       "      <td>41</td>\n",
       "      <td>M</td>\n",
       "      <td>Unknown</td>\n",
       "      <td>Divorced</td>\n",
       "      <td>$40K - $60K</td>\n",
       "      <td>Blue</td>\n",
       "      <td>2</td>\n",
       "      <td>4277.0</td>\n",
       "      <td>8764</td>\n",
       "      <td>69</td>\n",
       "    </tr>\n",
       "    <tr>\n",
       "      <th>10124</th>\n",
       "      <td>44</td>\n",
       "      <td>F</td>\n",
       "      <td>High School</td>\n",
       "      <td>Married</td>\n",
       "      <td>Less than $40K</td>\n",
       "      <td>Blue</td>\n",
       "      <td>3</td>\n",
       "      <td>5409.0</td>\n",
       "      <td>10291</td>\n",
       "      <td>60</td>\n",
       "    </tr>\n",
       "    <tr>\n",
       "      <th>10125</th>\n",
       "      <td>30</td>\n",
       "      <td>M</td>\n",
       "      <td>Graduate</td>\n",
       "      <td>Unknown</td>\n",
       "      <td>$40K - $60K</td>\n",
       "      <td>Blue</td>\n",
       "      <td>3</td>\n",
       "      <td>5281.0</td>\n",
       "      <td>8395</td>\n",
       "      <td>62</td>\n",
       "    </tr>\n",
       "    <tr>\n",
       "      <th>10126</th>\n",
       "      <td>43</td>\n",
       "      <td>F</td>\n",
       "      <td>Graduate</td>\n",
       "      <td>Married</td>\n",
       "      <td>Less than $40K</td>\n",
       "      <td>Silver</td>\n",
       "      <td>2</td>\n",
       "      <td>10388.0</td>\n",
       "      <td>10294</td>\n",
       "      <td>61</td>\n",
       "    </tr>\n",
       "  </tbody>\n",
       "</table>\n",
       "<p>10127 rows × 10 columns</p>\n",
       "</div>"
      ],
      "text/plain": [
       "       Customer_Age Gender Education_Level Marital_Status Income_Category  \\\n",
       "0                45      M     High School        Married     $60K - $80K   \n",
       "1                49      F        Graduate         Single  Less than $40K   \n",
       "2                51      M        Graduate        Married    $80K - $120K   \n",
       "3                40      F     High School        Unknown  Less than $40K   \n",
       "4                40      M      Uneducated        Married     $60K - $80K   \n",
       "...             ...    ...             ...            ...             ...   \n",
       "10122            50      M        Graduate         Single     $40K - $60K   \n",
       "10123            41      M         Unknown       Divorced     $40K - $60K   \n",
       "10124            44      F     High School        Married  Less than $40K   \n",
       "10125            30      M        Graduate        Unknown     $40K - $60K   \n",
       "10126            43      F        Graduate        Married  Less than $40K   \n",
       "\n",
       "      Card_Category  Months_Inactive_12_mon  Credit_Limit  Total_Trans_Amt  \\\n",
       "0              Blue                       1       12691.0             1144   \n",
       "1              Blue                       1        8256.0             1291   \n",
       "2              Blue                       1        3418.0             1887   \n",
       "3              Blue                       4        3313.0             1171   \n",
       "4              Blue                       1        4716.0              816   \n",
       "...             ...                     ...           ...              ...   \n",
       "10122          Blue                       2        4003.0            15476   \n",
       "10123          Blue                       2        4277.0             8764   \n",
       "10124          Blue                       3        5409.0            10291   \n",
       "10125          Blue                       3        5281.0             8395   \n",
       "10126        Silver                       2       10388.0            10294   \n",
       "\n",
       "       Total_Trans_Ct  \n",
       "0                  42  \n",
       "1                  33  \n",
       "2                  20  \n",
       "3                  20  \n",
       "4                  28  \n",
       "...               ...  \n",
       "10122             117  \n",
       "10123              69  \n",
       "10124              60  \n",
       "10125              62  \n",
       "10126              61  \n",
       "\n",
       "[10127 rows x 10 columns]"
      ]
     },
     "execution_count": 36,
     "metadata": {},
     "output_type": "execute_result"
    }
   ],
   "source": [
    "baseOG=base1.drop([\"CLIENTNUM\",\"Attrition_Flag\",\"Dependent_count\",\"Months_on_book\",\"Total_Relationship_Count\",\"Contacts_Count_12_mon\",\"Total_Revolving_Bal\",\"Avg_Open_To_Buy\",\"Total_Amt_Chng_Q4_Q1\",\"Total_Ct_Chng_Q4_Q1\",\"Avg_Utilization_Ratio\",\"Naive_Bayes_Classifier_Attrition_Flag_Card_Category_Contacts_Count_12_mon_Dependent_count_Education_Level_Months_Inactive_12_mon_1\",\"Naive_Bayes_Classifier_Attrition_Flag_Card_Category_Contacts_Count_12_mon_Dependent_count_Education_Level_Months_Inactive_12_mon_2\"],axis=1)\n",
    "baseOG"
   ]
  },
  {
   "cell_type": "markdown",
   "metadata": {},
   "source": [
    "Se comprueba que no hay datos nulos "
   ]
  },
  {
   "cell_type": "code",
   "execution_count": 10,
   "metadata": {},
   "outputs": [
    {
     "data": {
      "text/plain": [
       "Customer_Age              0\n",
       "Gender                    0\n",
       "Education_Level           0\n",
       "Marital_Status            0\n",
       "Income_Category           0\n",
       "Months_Inactive_12_mon    0\n",
       "Credit_Limit              0\n",
       "dtype: int64"
      ]
     },
     "execution_count": 10,
     "metadata": {},
     "output_type": "execute_result"
    }
   ],
   "source": [
    "baseOG.isnull()\n",
    "baseOG.isnull().sum()"
   ]
  },
  {
   "cell_type": "markdown",
   "metadata": {},
   "source": [
    "## II BASE DE DATOS ESTUDIO\n",
    "\n"
   ]
  },
  {
   "cell_type": "markdown",
   "metadata": {},
   "source": [
    "## III-Estadística básica de los datos.\n",
    "\t\t\t\t\t\t\n",
    "Tomando en cuenta sus objetivos, inicia con algunos de los\n",
    "datos estadísticos básicos mostrados en la práctica 2.\n",
    "### 3.1- Los datos demuestran que la mayor parte de los clientes de esta tarjeta de crédito tienen menos de 52 años, representando al 75% de la población."
   ]
  },
  {
   "cell_type": "code",
   "execution_count": 11,
   "metadata": {},
   "outputs": [
    {
     "name": "stdout",
     "output_type": "stream",
     "text": [
      "Promedio de edad :  46.32596030413745 años\n",
      "Los datos criticos son en cuestion de edad :\n"
     ]
    },
    {
     "data": {
      "text/plain": [
       "count    10127.000000\n",
       "mean        46.325960\n",
       "std          8.016814\n",
       "min         26.000000\n",
       "25%         41.000000\n",
       "50%         46.000000\n",
       "75%         52.000000\n",
       "max         73.000000\n",
       "Name: Customer_Age, dtype: float64"
      ]
     },
     "execution_count": 11,
     "metadata": {},
     "output_type": "execute_result"
    }
   ],
   "source": [
    "# Promedio de Edad\n",
    "print(\"Promedio de edad : \" , baseOG['Customer_Age'].mean() , \"años\")\n",
    "\n",
    "#Datos Criticos\n",
    "print(\"Los datos criticos son en cuestion de edad :\")\n",
    "baseOG['Customer_Age'].describe()\n"
   ]
  },
  {
   "cell_type": "markdown",
   "metadata": {},
   "source": [
    "### 3.2- Los datos demuestran que las transacciones por tarjeta  de crédito son usadas por lo menos 10 veces al mes por los usuarios pero el promedio se puede concluir que se usa la tarjeta casi diario\n"
   ]
  },
  {
   "cell_type": "code",
   "execution_count": 8,
   "metadata": {},
   "outputs": [
    {
     "name": "stdout",
     "output_type": "stream",
     "text": [
      "Promedio de transacciones :  64.85869457884863 Por tarjeta\n",
      "Los datos criticos son en cuestion de transacciones :\n"
     ]
    },
    {
     "data": {
      "text/plain": [
       "count    10127.000000\n",
       "mean        64.858695\n",
       "std         23.472570\n",
       "min         10.000000\n",
       "25%         45.000000\n",
       "50%         67.000000\n",
       "75%         81.000000\n",
       "max        139.000000\n",
       "Name: Total_Trans_Ct, dtype: float64"
      ]
     },
     "execution_count": 8,
     "metadata": {},
     "output_type": "execute_result"
    }
   ],
   "source": [
    "# Promedio de transacciones\n",
    "print(\"Promedio de transacciones : \" , baseOG['Total_Trans_Ct'].mean() , \"Por tarjeta\" )\n",
    "\n",
    "#Datos Criticos\n",
    "print(\"Los datos criticos son en cuestion de transacciones :\")\n",
    "baseOG['Total_Trans_Ct'].describe()"
   ]
  },
  {
   "cell_type": "markdown",
   "metadata": {},
   "source": [
    "### 3.3- Se hacen las bases principales de la cantidad de transacciones \n",
    "\n"
   ]
  },
  {
   "cell_type": "code",
   "execution_count": 12,
   "metadata": {},
   "outputs": [
    {
     "name": "stdout",
     "output_type": "stream",
     "text": [
      "El valor mínimo es :  10\n",
      "El valor máximo es :  139\n",
      "El valor mediano es :  67.0\n",
      "La varianza :  550.9615634942085\n",
      "La desviación estandar es :  23.472570449233046\n",
      "Que tan sesgado es :  0.15367306849872275\n",
      "La curtosis es :  23.472570449233046\n",
      "El promedio es  :  64.85869457884863\n"
     ]
    }
   ],
   "source": [
    "minimo=baseOG['Total_Trans_Ct'].min()\n",
    "print(\"El valor mínimo es : \",minimo)\n",
    "maximo=baseOG['Total_Trans_Ct'].max()\n",
    "print(\"El valor máximo es : \",maximo)\n",
    "mediana=baseOG['Total_Trans_Ct'].median()\n",
    "print(\"El valor mediano es : \",mediana)\n",
    "varianza=baseOG['Total_Trans_Ct'].var()\n",
    "print(\"La varianza : \",varianza)\n",
    "desv=baseOG['Total_Trans_Ct'].std()\n",
    "print(\"La desviación estandar es : \",desv)\n",
    "sesgado=baseOG['Total_Trans_Ct'].skew()\n",
    "print(\"Que tan sesgado es : \",sesgado)\n",
    "curtosis=baseOG['Total_Trans_Ct'].kurt()\n",
    "print(\"La curtosis es : \",desv)\n",
    "promedio=baseOG[\"Total_Trans_Ct\"].mean()\n",
    "print(\"El promedio es  : \",promedio)\n"
   ]
  },
  {
   "cell_type": "markdown",
   "metadata": {},
   "source": [
    "## III-  Gráficas de apoyo basado en el ingreso de cliente divido en grupos de edad ,género y educación.\n",
    "#### Grafica 1 - La distribución de la población conforme a sus ingresos\n",
    "\n",
    "En esta gráfica podemos observar la distribución de la población de nuestra base de datos ordenada por sus ingresos anuales en dólares.\n",
    "Se puede distinguir a simple vista que aproximadamente el 35% de las personas tienen un salario de menos de $40,000. \n",
    "\n",
    "El sueldo que le sigue es entre $ 40,000 y $ 60,000, con el 17% de la población y solo un 7% tiene ingresos de $120,000 o más.\n",
    "Los Graficos de lineas no son útiles en esta investigación ,pues no se tienen valores individuales o crecimiento de algun dato en búsqueda\n"
   ]
  },
  {
   "cell_type": "code",
   "execution_count": 24,
   "metadata": {
    "scrolled": true
   },
   "outputs": [
    {
     "data": {
      "text/plain": [
       "Text(0.5, 0, 'Cantidad de ingresos')"
      ]
     },
     "execution_count": 24,
     "metadata": {},
     "output_type": "execute_result"
    },
    {
     "data": {
      "image/png": "[encoded data removed]",
      "text/plain": [
       "<Figure size 432x288 with 1 Axes>"
      ]
     },
     "metadata": {
      "needs_background": "light"
     },
     "output_type": "display_data"
    }
   ],
   "source": [
    "(baseOG['Income_Category'].value_counts().sort_index()/len(baseOG)).plot.bar()\n",
    "plt.title(\"Ingresos\")\n",
    "plt.ylabel(\"Porcentaje de Usuarios\")\n",
    "plt.xlabel(\"Cantidad de ingresos\")"
   ]
  },
  {
   "cell_type": "markdown",
   "metadata": {},
   "source": [
    "#### Gráfico 2\n",
    "En este histograma se puede notar la manera en que se distribuyen las edades, parece que estos siguen una distribución normal. Se observa que la mayor cantidad de personas con una tarjeta de crédito se encuentra en el intervalo de 40 a 53 años de edad. Fuera de ese intervalo la cantidad de personas se reduce en gran cantidad.\n"
   ]
  },
  {
   "cell_type": "code",
   "execution_count": 23,
   "metadata": {
    "scrolled": true
   },
   "outputs": [
    {
     "data": {
      "text/plain": [
       "Text(0.5, 0, 'Edad Usuario')"
      ]
     },
     "execution_count": 23,
     "metadata": {},
     "output_type": "execute_result"
    },
    {
     "data": {
      "image/png": "[encoded data removed]",
      "text/plain": [
       "<Figure size 432x288 with 1 Axes>"
      ]
     },
     "metadata": {
      "needs_background": "light"
     },
     "output_type": "display_data"
    }
   ],
   "source": [
    "baseOG['Customer_Age'].plot.hist()\n",
    "plt.title(\"Edad\")\n",
    "plt.ylabel(\"Cantidad de Usuarios\")\n",
    "plt.xlabel(\"Edad Usuario\")"
   ]
  },
  {
   "cell_type": "markdown",
   "metadata": {},
   "source": [
    "#### Grafico 3 - graficos de barra de sexo\n",
    "Este gráfico de barras muestra la comparación entre los dos géneros de la población de nuestra base. Podemos notar que es una proporción muy similar. Gracias a esto podemos hacer un buen análisis sin que los datos estén sesgados hacia algún género con mayor población.\n"
   ]
  },
  {
   "cell_type": "code",
   "execution_count": 18,
   "metadata": {},
   "outputs": [
    {
     "data": {
      "text/plain": [
       "Text(-2.700000000000003, 0.5, 'Número de usuarios')"
      ]
     },
     "execution_count": 18,
     "metadata": {},
     "output_type": "execute_result"
    },
    {
     "data": {
      "image/png": "[encoded data removed]",
      "text/plain": [
       "<Figure size 360x360 with 1 Axes>"
      ]
     },
     "metadata": {
      "needs_background": "light"
     },
     "output_type": "display_data"
    }
   ],
   "source": [
    "sns.catplot(x=\"Gender\", kind=\"count\", data=baseOG)\n",
    "plt.title(\"Sexo de los usuarios\")\n",
    "plt.ylabel(\"Número de usuarios\")"
   ]
  },
  {
   "cell_type": "markdown",
   "metadata": {},
   "source": [
    "#### Grafico 4 - graficos de lineas basado en la cantidad de transacciones\n",
    "En este gráfico podemos notar que la mayoría de los usuarios realizan entre 70 y 90 transacciones. Observamos también que son muy pocas las personas que realizan menos de 30 transacciones y más de 100."
   ]
  },
  {
   "cell_type": "code",
   "execution_count": 21,
   "metadata": {},
   "outputs": [
    {
     "data": {
      "text/plain": [
       "Text(0.5, 0, 'Cantidad de Transacciones')"
      ]
     },
     "execution_count": 21,
     "metadata": {},
     "output_type": "execute_result"
    },
    {
     "data": {
      "image/png": "[encoded data removed]",
      "text/plain": [
       "<Figure size 432x288 with 1 Axes>"
      ]
     },
     "metadata": {
      "needs_background": "light"
     },
     "output_type": "display_data"
    }
   ],
   "source": [
    "baseOG['Total_Trans_Ct'].value_counts().sort_index().plot.area()\n",
    "plt.title(\"Transacciones\")\n",
    "plt.ylabel(\"Cantidad de Usarios\")\n",
    "plt.xlabel(\"Cantidad de Transacciones\")"
   ]
  },
  {
   "cell_type": "markdown",
   "metadata": {},
   "source": [
    "###### Grafico 5 - graficos de barras sobre la distribución de usuarios\n",
    "En este gráfico observamos que arriba 8000 personas cuentan con la tarjeta “blue” y son muy pocos los usuarios que cuentan con los otros tipos de tarjeta. Esto se puede convertir en un mercado objetivo, ya que se puede buscar ofrecer las distintas tarjetas a los clientes que no cuenten con ella.\n"
   ]
  },
  {
   "cell_type": "code",
   "execution_count": 27,
   "metadata": {
    "scrolled": true
   },
   "outputs": [
    {
     "data": {
      "text/plain": [
       "Text(0.5, 6.79999999999999, 'Tipo de tarjeta')"
      ]
     },
     "execution_count": 27,
     "metadata": {},
     "output_type": "execute_result"
    },
    {
     "data": {
      "image/png": "[encoded data removed]",
      "text/plain": [
       "<Figure size 360x360 with 1 Axes>"
      ]
     },
     "metadata": {
      "needs_background": "light"
     },
     "output_type": "display_data"
    }
   ],
   "source": [
    "sns.catplot(x=\"Card_Category\", kind=\"count\", data=baseOG)\n",
    "plt.title(\"Categorias\")\n",
    "plt.ylabel(\"Número de usuarios\")\n",
    "plt.xlabel(\"Tipo de tarjeta\")"
   ]
  },
  {
   "cell_type": "markdown",
   "metadata": {},
   "source": [
    "#### Grafico 6 - graficos de barras sobre la distribución de usuarios en porcentajes\n",
    "En este gráfico podemos observar lo mismo que en el pasado, ya que notamos que arriba del 80% de la población cuenta con la tarjeta de tipo “blue”. Concluimos de la misma manera que en el anterior.\n",
    "\n"
   ]
  },
  {
   "cell_type": "code",
   "execution_count": 28,
   "metadata": {},
   "outputs": [
    {
     "data": {
      "text/plain": [
       "Text(0.5, 0, 'Tipo de tarjeta')"
      ]
     },
     "execution_count": 28,
     "metadata": {},
     "output_type": "execute_result"
    },
    {
     "data": {
      "image/png": "[encoded data removed]",
      "text/plain": [
       "<Figure size 432x288 with 1 Axes>"
      ]
     },
     "metadata": {
      "needs_background": "light"
     },
     "output_type": "display_data"
    }
   ],
   "source": [
    "(baseOG['Card_Category'].value_counts().sort_index()/len(baseOG)).plot.bar()\n",
    "plt.title(\"Categorias\")\n",
    "plt.ylabel(\"Porcentaje de Usuarios\")\n",
    "plt.xlabel(\"Tipo de tarjeta\")"
   ]
  },
  {
   "cell_type": "markdown",
   "metadata": {},
   "source": [
    "#### Grafico 7 - graficos de barras del tipo de tarjeta y la edad de cliente\n",
    "En este gráfico podemos notar la frecuencia del tipo de tarjeta que se presenta respecto a las edades de los clientes. Los de tarjeta “blue” tiene un rango de edades muy amplio, es a partir de los 70 donde ya no se notan tantos clientes. En la tarjeta “gold” la población se concentra entre los 40 y 50 años en su mayoría. En la tarjeta “silver” la población parece que se distribuye de manera uniforme desde los 25 años aprox hasta los 65. \n"
   ]
  },
  {
   "cell_type": "code",
   "execution_count": 46,
   "metadata": {},
   "outputs": [
    {
     "data": {
      "text/plain": [
       "Text(0.5, 0, 'Tipo de tarjeta')"
      ]
     },
     "execution_count": 46,
     "metadata": {},
     "output_type": "execute_result"
    },
    {
     "data": {
      "image/png": "[encoded data removed]",
      "text/plain": [
       "<Figure size 432x288 with 1 Axes>"
      ]
     },
     "metadata": {
      "needs_background": "light"
     },
     "output_type": "display_data"
    }
   ],
   "source": [
    "baseOG.plot.scatter(x='Card_Category', y='Customer_Age')\n",
    "plt.title(\"Tipo de tarjeta vs Edad\")\n",
    "plt.ylabel(\"Edad\")\n",
    "plt.xlabel(\"Tipo de tarjeta\")"
   ]
  },
  {
   "cell_type": "markdown",
   "metadata": {},
   "source": [
    "#### Grafico 8 - boxplot del tipo de tarjeta y la edad de cliente\n",
    "En este gráfico notamos que el 50% de las personas con estas tarjetas de crédito se encuentran entre los 40 y 50 años de edad. 25% de los clientes están dispersos de las edades de 40 para abajo y el otro 25% se encuentra arriba de los 50 años.\n"
   ]
  },
  {
   "cell_type": "code",
   "execution_count": 47,
   "metadata": {},
   "outputs": [
    {
     "data": {
      "text/plain": [
       "Text(0.5, 0, 'Tipo de tarjeta')"
      ]
     },
     "execution_count": 47,
     "metadata": {},
     "output_type": "execute_result"
    },
    {
     "data": {
      "image/png": "[encoded data removed]",
      "text/plain": [
       "<Figure size 720x360 with 1 Axes>"
      ]
     },
     "metadata": {
      "needs_background": "light"
     },
     "output_type": "display_data"
    }
   ],
   "source": [
    "mini = pd.melt(baseOG,id_vars = \"Card_Category\",value_vars = ['Customer_Age'])\n",
    "plt.figure(figsize = (10,5))\n",
    "sns.boxplot(x = \"variable\", y = \"value\", hue=\"Card_Category\",data= mini)\n",
    "plt.title(\"Tipo de tarjeta vs Edad\")\n",
    "plt.ylabel(\"Edad\")\n",
    "plt.xlabel(\"Tipo de tarjeta\")"
   ]
  },
  {
   "cell_type": "markdown",
   "metadata": {},
   "source": [
    "#### Grafico 10 - boxplot del tipo de tarjeta y transacciones\n"
   ]
  },
  {
   "cell_type": "code",
   "execution_count": 37,
   "metadata": {},
   "outputs": [
    {
     "data": {
      "text/plain": [
       "Text(0.5, 0, 'tipo de Cliente')"
      ]
     },
     "execution_count": 37,
     "metadata": {},
     "output_type": "execute_result"
    },
    {
     "data": {
      "image/png": "[encoded data removed]",
      "text/plain": [
       "<Figure size 720x360 with 1 Axes>"
      ]
     },
     "metadata": {
      "needs_background": "light"
     },
     "output_type": "display_data"
    }
   ],
   "source": [
    "mini2 = pd.melt(baseOG,id_vars = \"Card_Category\",value_vars = ['Total_Trans_Ct'])\n",
    "plt.figure(figsize = (10,5))\n",
    "sns.boxplot(x = \"variable\", y = \"value\", hue=\"Card_Category\",data= mini2)\n",
    "plt.title(\"Tipo de tarjeta vs Cantidad de transacciones\")\n",
    "plt.ylabel(\"Transacciones\")\n",
    "plt.xlabel(\"tipo de Cliente\")"
   ]
  },
  {
   "cell_type": "code",
   "execution_count": 27,
   "metadata": {
    "scrolled": false
   },
   "outputs": [
    {
     "data": {
      "image/png": "[encoded data removed]",
      "text/plain": [
       "<Figure size 576x576 with 1 Axes>"
      ]
     },
     "metadata": {},
     "output_type": "display_data"
    }
   ],
   "source": [
    "import matplotlib as plt \n",
    "from matplotlib import pyplot\n",
    "from matplotlib import colors \n",
    "from matplotlib import cm \n",
    "plt.pyplot.figure(figsize=(8,8))\n",
    "baseOG['Education_Level'].value_counts().plot.pie(autopct=\"%0.1f%%\", cmap= \"inferno_r\")\n",
    "plt.pyplot.title(\"Porcentaje educacion\")\n",
    "plt.pyplot.show()"
   ]
  },
  {
   "cell_type": "markdown",
   "metadata": {},
   "source": [
    "### Box plot limite crediticio y eduacion"
   ]
  },
  {
   "cell_type": "code",
   "execution_count": 39,
   "metadata": {},
   "outputs": [
    {
     "data": {
      "text/plain": [
       "Text(0.5, 0, 'Educación')"
      ]
     },
     "execution_count": 39,
     "metadata": {},
     "output_type": "execute_result"
    },
    {
     "data": {
      "image/png": "[encoded data removed]",
      "text/plain": [
       "<Figure size 1440x360 with 1 Axes>"
      ]
     },
     "metadata": {
      "needs_background": "light"
     },
     "output_type": "display_data"
    }
   ],
   "source": [
    "mini3 = pd.melt(baseOG,id_vars = \"Education_Level\",value_vars = ['Total_Trans_Ct'])\n",
    "plt.figure(figsize = (20,5))\n",
    "sns.boxplot(x = \"variable\", y = \"value\", hue=\"Education_Level\",data= mini3)\n",
    "plt.title(\"Tipo de tarjeta vs Cantidad de transacciones\")\n",
    "plt.ylabel(\"Transacciones\")\n",
    "plt.xlabel(\"Educación\")"
   ]
  },
  {
   "cell_type": "markdown",
   "metadata": {},
   "source": [
    "### Base de datos separado por genero\n",
    "\n",
    "#### Base Masculina"
   ]
  },
  {
   "cell_type": "code",
   "execution_count": 16,
   "metadata": {
    "scrolled": false
   },
   "outputs": [
    {
     "data": {
      "text/html": [
       "<div>\n",
       "<style scoped>\n",
       "    .dataframe tbody tr th:only-of-type {\n",
       "        vertical-align: middle;\n",
       "    }\n",
       "\n",
       "    .dataframe tbody tr th {\n",
       "        vertical-align: top;\n",
       "    }\n",
       "\n",
       "    .dataframe thead th {\n",
       "        text-align: right;\n",
       "    }\n",
       "</style>\n",
       "<table border=\"1\" class=\"dataframe\">\n",
       "  <thead>\n",
       "    <tr style=\"text-align: right;\">\n",
       "      <th></th>\n",
       "      <th>Customer_Age</th>\n",
       "      <th>Gender</th>\n",
       "      <th>Education_Level</th>\n",
       "      <th>Marital_Status</th>\n",
       "      <th>Income_Category</th>\n",
       "      <th>Months_Inactive_12_mon</th>\n",
       "      <th>Credit_Limit</th>\n",
       "      <th>Total_Trans_Amt</th>\n",
       "      <th>Total_Trans_Ct</th>\n",
       "    </tr>\n",
       "  </thead>\n",
       "  <tbody>\n",
       "    <tr>\n",
       "      <th>0</th>\n",
       "      <td>45</td>\n",
       "      <td>M</td>\n",
       "      <td>High School</td>\n",
       "      <td>Married</td>\n",
       "      <td>$60K - $80K</td>\n",
       "      <td>1</td>\n",
       "      <td>12691.0</td>\n",
       "      <td>1144</td>\n",
       "      <td>42</td>\n",
       "    </tr>\n",
       "    <tr>\n",
       "      <th>2</th>\n",
       "      <td>51</td>\n",
       "      <td>M</td>\n",
       "      <td>Graduate</td>\n",
       "      <td>Married</td>\n",
       "      <td>$80K - $120K</td>\n",
       "      <td>1</td>\n",
       "      <td>3418.0</td>\n",
       "      <td>1887</td>\n",
       "      <td>20</td>\n",
       "    </tr>\n",
       "    <tr>\n",
       "      <th>4</th>\n",
       "      <td>40</td>\n",
       "      <td>M</td>\n",
       "      <td>Uneducated</td>\n",
       "      <td>Married</td>\n",
       "      <td>$60K - $80K</td>\n",
       "      <td>1</td>\n",
       "      <td>4716.0</td>\n",
       "      <td>816</td>\n",
       "      <td>28</td>\n",
       "    </tr>\n",
       "    <tr>\n",
       "      <th>5</th>\n",
       "      <td>44</td>\n",
       "      <td>M</td>\n",
       "      <td>Graduate</td>\n",
       "      <td>Married</td>\n",
       "      <td>$40K - $60K</td>\n",
       "      <td>1</td>\n",
       "      <td>4010.0</td>\n",
       "      <td>1088</td>\n",
       "      <td>24</td>\n",
       "    </tr>\n",
       "    <tr>\n",
       "      <th>6</th>\n",
       "      <td>51</td>\n",
       "      <td>M</td>\n",
       "      <td>Unknown</td>\n",
       "      <td>Married</td>\n",
       "      <td>$120K +</td>\n",
       "      <td>1</td>\n",
       "      <td>34516.0</td>\n",
       "      <td>1330</td>\n",
       "      <td>31</td>\n",
       "    </tr>\n",
       "    <tr>\n",
       "      <th>...</th>\n",
       "      <td>...</td>\n",
       "      <td>...</td>\n",
       "      <td>...</td>\n",
       "      <td>...</td>\n",
       "      <td>...</td>\n",
       "      <td>...</td>\n",
       "      <td>...</td>\n",
       "      <td>...</td>\n",
       "      <td>...</td>\n",
       "    </tr>\n",
       "    <tr>\n",
       "      <th>10118</th>\n",
       "      <td>50</td>\n",
       "      <td>M</td>\n",
       "      <td>Unknown</td>\n",
       "      <td>Unknown</td>\n",
       "      <td>$80K - $120K</td>\n",
       "      <td>3</td>\n",
       "      <td>9959.0</td>\n",
       "      <td>10310</td>\n",
       "      <td>63</td>\n",
       "    </tr>\n",
       "    <tr>\n",
       "      <th>10120</th>\n",
       "      <td>54</td>\n",
       "      <td>M</td>\n",
       "      <td>High School</td>\n",
       "      <td>Single</td>\n",
       "      <td>$60K - $80K</td>\n",
       "      <td>2</td>\n",
       "      <td>13940.0</td>\n",
       "      <td>15577</td>\n",
       "      <td>114</td>\n",
       "    </tr>\n",
       "    <tr>\n",
       "      <th>10122</th>\n",
       "      <td>50</td>\n",
       "      <td>M</td>\n",
       "      <td>Graduate</td>\n",
       "      <td>Single</td>\n",
       "      <td>$40K - $60K</td>\n",
       "      <td>2</td>\n",
       "      <td>4003.0</td>\n",
       "      <td>15476</td>\n",
       "      <td>117</td>\n",
       "    </tr>\n",
       "    <tr>\n",
       "      <th>10123</th>\n",
       "      <td>41</td>\n",
       "      <td>M</td>\n",
       "      <td>Unknown</td>\n",
       "      <td>Divorced</td>\n",
       "      <td>$40K - $60K</td>\n",
       "      <td>2</td>\n",
       "      <td>4277.0</td>\n",
       "      <td>8764</td>\n",
       "      <td>69</td>\n",
       "    </tr>\n",
       "    <tr>\n",
       "      <th>10125</th>\n",
       "      <td>30</td>\n",
       "      <td>M</td>\n",
       "      <td>Graduate</td>\n",
       "      <td>Unknown</td>\n",
       "      <td>$40K - $60K</td>\n",
       "      <td>3</td>\n",
       "      <td>5281.0</td>\n",
       "      <td>8395</td>\n",
       "      <td>62</td>\n",
       "    </tr>\n",
       "  </tbody>\n",
       "</table>\n",
       "<p>4769 rows × 9 columns</p>\n",
       "</div>"
      ],
      "text/plain": [
       "       Customer_Age Gender Education_Level Marital_Status Income_Category  \\\n",
       "0                45      M     High School        Married     $60K - $80K   \n",
       "2                51      M        Graduate        Married    $80K - $120K   \n",
       "4                40      M      Uneducated        Married     $60K - $80K   \n",
       "5                44      M        Graduate        Married     $40K - $60K   \n",
       "6                51      M         Unknown        Married         $120K +   \n",
       "...             ...    ...             ...            ...             ...   \n",
       "10118            50      M         Unknown        Unknown    $80K - $120K   \n",
       "10120            54      M     High School         Single     $60K - $80K   \n",
       "10122            50      M        Graduate         Single     $40K - $60K   \n",
       "10123            41      M         Unknown       Divorced     $40K - $60K   \n",
       "10125            30      M        Graduate        Unknown     $40K - $60K   \n",
       "\n",
       "       Months_Inactive_12_mon  Credit_Limit  Total_Trans_Amt  Total_Trans_Ct  \n",
       "0                           1       12691.0             1144              42  \n",
       "2                           1        3418.0             1887              20  \n",
       "4                           1        4716.0              816              28  \n",
       "5                           1        4010.0             1088              24  \n",
       "6                           1       34516.0             1330              31  \n",
       "...                       ...           ...              ...             ...  \n",
       "10118                       3        9959.0            10310              63  \n",
       "10120                       2       13940.0            15577             114  \n",
       "10122                       2        4003.0            15476             117  \n",
       "10123                       2        4277.0             8764              69  \n",
       "10125                       3        5281.0             8395              62  \n",
       "\n",
       "[4769 rows x 9 columns]"
      ]
     },
     "execution_count": 16,
     "metadata": {},
     "output_type": "execute_result"
    }
   ],
   "source": [
    "baseO = baseOG[(baseOG.Gender == \"M\")]\n",
    "baseO"
   ]
  },
  {
   "cell_type": "code",
   "execution_count": 22,
   "metadata": {},
   "outputs": [
    {
     "data": {
      "text/plain": [
       "Text(0.5, 0, 'Cantidad de ingresos')"
      ]
     },
     "execution_count": 22,
     "metadata": {},
     "output_type": "execute_result"
    },
    {
     "data": {
      "image/png": "[encoded data removed]",
      "text/plain": [
       "<Figure size 432x288 with 1 Axes>"
      ]
     },
     "metadata": {
      "needs_background": "light"
     },
     "output_type": "display_data"
    }
   ],
   "source": [
    "(baseO['Income_Category'].value_counts().sort_index()/len(baseO)).plot.bar()\n",
    "plt.title(\"Ingresos de Hombres\")\n",
    "plt.ylabel(\"Porcentaje de Usuarios\")\n",
    "plt.xlabel(\"Cantidad de ingresos\")"
   ]
  },
  {
   "cell_type": "code",
   "execution_count": 26,
   "metadata": {
    "scrolled": false
   },
   "outputs": [
    {
     "data": {
      "image/png": "[encoded data removed]",
      "text/plain": [
       "<Figure size 576x576 with 1 Axes>"
      ]
     },
     "metadata": {},
     "output_type": "display_data"
    }
   ],
   "source": [
    "import matplotlib as plt \n",
    "from matplotlib import pyplot\n",
    "from matplotlib import colors \n",
    "from matplotlib import cm \n",
    "plt.pyplot.figure(figsize=(8,8))\n",
    "baseO['Education_Level'].value_counts().plot.pie(autopct=\"%0.1f%%\", cmap= \"inferno_r\")\n",
    "plt.pyplot.title(\"Porcentaje educacion Hombres\")\n",
    "plt.pyplot.show()"
   ]
  },
  {
   "cell_type": "code",
   "execution_count": 44,
   "metadata": {},
   "outputs": [
    {
     "data": {
      "text/plain": [
       "Text(0.5, 0, 'Educación')"
      ]
     },
     "execution_count": 44,
     "metadata": {},
     "output_type": "execute_result"
    },
    {
     "data": {
      "image/png": "[encoded data removed]",
      "text/plain": [
       "<Figure size 1440x360 with 1 Axes>"
      ]
     },
     "metadata": {
      "needs_background": "light"
     },
     "output_type": "display_data"
    }
   ],
   "source": [
    "mini4 = pd.melt(baseO,id_vars = \"Education_Level\",value_vars = ['Total_Trans_Ct'])\n",
    "plt.figure(figsize = (20,5))\n",
    "sns.boxplot(x = \"variable\", y = \"value\", hue=\"Education_Level\",data= mini4)\n",
    "plt.title(\"Educacion vs Cantidad de transacciones en hombres\")\n",
    "plt.ylabel(\"Transacciones\")\n",
    "plt.xlabel(\"Educación\")"
   ]
  },
  {
   "cell_type": "markdown",
   "metadata": {},
   "source": [
    "#### Base Feminina"
   ]
  },
  {
   "cell_type": "code",
   "execution_count": 19,
   "metadata": {
    "scrolled": false
   },
   "outputs": [
    {
     "data": {
      "text/html": [
       "<div>\n",
       "<style scoped>\n",
       "    .dataframe tbody tr th:only-of-type {\n",
       "        vertical-align: middle;\n",
       "    }\n",
       "\n",
       "    .dataframe tbody tr th {\n",
       "        vertical-align: top;\n",
       "    }\n",
       "\n",
       "    .dataframe thead th {\n",
       "        text-align: right;\n",
       "    }\n",
       "</style>\n",
       "<table border=\"1\" class=\"dataframe\">\n",
       "  <thead>\n",
       "    <tr style=\"text-align: right;\">\n",
       "      <th></th>\n",
       "      <th>Customer_Age</th>\n",
       "      <th>Gender</th>\n",
       "      <th>Education_Level</th>\n",
       "      <th>Marital_Status</th>\n",
       "      <th>Income_Category</th>\n",
       "      <th>Months_Inactive_12_mon</th>\n",
       "      <th>Credit_Limit</th>\n",
       "      <th>Total_Trans_Amt</th>\n",
       "      <th>Total_Trans_Ct</th>\n",
       "    </tr>\n",
       "  </thead>\n",
       "  <tbody>\n",
       "    <tr>\n",
       "      <th>1</th>\n",
       "      <td>49</td>\n",
       "      <td>F</td>\n",
       "      <td>Graduate</td>\n",
       "      <td>Single</td>\n",
       "      <td>Less than $40K</td>\n",
       "      <td>1</td>\n",
       "      <td>8256.0</td>\n",
       "      <td>1291</td>\n",
       "      <td>33</td>\n",
       "    </tr>\n",
       "    <tr>\n",
       "      <th>3</th>\n",
       "      <td>40</td>\n",
       "      <td>F</td>\n",
       "      <td>High School</td>\n",
       "      <td>Unknown</td>\n",
       "      <td>Less than $40K</td>\n",
       "      <td>4</td>\n",
       "      <td>3313.0</td>\n",
       "      <td>1171</td>\n",
       "      <td>20</td>\n",
       "    </tr>\n",
       "    <tr>\n",
       "      <th>14</th>\n",
       "      <td>57</td>\n",
       "      <td>F</td>\n",
       "      <td>Graduate</td>\n",
       "      <td>Married</td>\n",
       "      <td>Less than $40K</td>\n",
       "      <td>2</td>\n",
       "      <td>2436.0</td>\n",
       "      <td>1570</td>\n",
       "      <td>29</td>\n",
       "    </tr>\n",
       "    <tr>\n",
       "      <th>19</th>\n",
       "      <td>45</td>\n",
       "      <td>F</td>\n",
       "      <td>Graduate</td>\n",
       "      <td>Married</td>\n",
       "      <td>Unknown</td>\n",
       "      <td>1</td>\n",
       "      <td>14470.0</td>\n",
       "      <td>1207</td>\n",
       "      <td>21</td>\n",
       "    </tr>\n",
       "    <tr>\n",
       "      <th>21</th>\n",
       "      <td>62</td>\n",
       "      <td>F</td>\n",
       "      <td>Graduate</td>\n",
       "      <td>Married</td>\n",
       "      <td>Less than $40K</td>\n",
       "      <td>3</td>\n",
       "      <td>1438.3</td>\n",
       "      <td>692</td>\n",
       "      <td>16</td>\n",
       "    </tr>\n",
       "    <tr>\n",
       "      <th>...</th>\n",
       "      <td>...</td>\n",
       "      <td>...</td>\n",
       "      <td>...</td>\n",
       "      <td>...</td>\n",
       "      <td>...</td>\n",
       "      <td>...</td>\n",
       "      <td>...</td>\n",
       "      <td>...</td>\n",
       "      <td>...</td>\n",
       "    </tr>\n",
       "    <tr>\n",
       "      <th>10106</th>\n",
       "      <td>58</td>\n",
       "      <td>F</td>\n",
       "      <td>Graduate</td>\n",
       "      <td>Single</td>\n",
       "      <td>Less than $40K</td>\n",
       "      <td>2</td>\n",
       "      <td>4299.0</td>\n",
       "      <td>15068</td>\n",
       "      <td>123</td>\n",
       "    </tr>\n",
       "    <tr>\n",
       "      <th>10119</th>\n",
       "      <td>55</td>\n",
       "      <td>F</td>\n",
       "      <td>Uneducated</td>\n",
       "      <td>Single</td>\n",
       "      <td>Unknown</td>\n",
       "      <td>3</td>\n",
       "      <td>14657.0</td>\n",
       "      <td>6009</td>\n",
       "      <td>53</td>\n",
       "    </tr>\n",
       "    <tr>\n",
       "      <th>10121</th>\n",
       "      <td>56</td>\n",
       "      <td>F</td>\n",
       "      <td>Graduate</td>\n",
       "      <td>Single</td>\n",
       "      <td>Less than $40K</td>\n",
       "      <td>1</td>\n",
       "      <td>3688.0</td>\n",
       "      <td>14596</td>\n",
       "      <td>120</td>\n",
       "    </tr>\n",
       "    <tr>\n",
       "      <th>10124</th>\n",
       "      <td>44</td>\n",
       "      <td>F</td>\n",
       "      <td>High School</td>\n",
       "      <td>Married</td>\n",
       "      <td>Less than $40K</td>\n",
       "      <td>3</td>\n",
       "      <td>5409.0</td>\n",
       "      <td>10291</td>\n",
       "      <td>60</td>\n",
       "    </tr>\n",
       "    <tr>\n",
       "      <th>10126</th>\n",
       "      <td>43</td>\n",
       "      <td>F</td>\n",
       "      <td>Graduate</td>\n",
       "      <td>Married</td>\n",
       "      <td>Less than $40K</td>\n",
       "      <td>2</td>\n",
       "      <td>10388.0</td>\n",
       "      <td>10294</td>\n",
       "      <td>61</td>\n",
       "    </tr>\n",
       "  </tbody>\n",
       "</table>\n",
       "<p>5358 rows × 9 columns</p>\n",
       "</div>"
      ],
      "text/plain": [
       "       Customer_Age Gender Education_Level Marital_Status Income_Category  \\\n",
       "1                49      F        Graduate         Single  Less than $40K   \n",
       "3                40      F     High School        Unknown  Less than $40K   \n",
       "14               57      F        Graduate        Married  Less than $40K   \n",
       "19               45      F        Graduate        Married         Unknown   \n",
       "21               62      F        Graduate        Married  Less than $40K   \n",
       "...             ...    ...             ...            ...             ...   \n",
       "10106            58      F        Graduate         Single  Less than $40K   \n",
       "10119            55      F      Uneducated         Single         Unknown   \n",
       "10121            56      F        Graduate         Single  Less than $40K   \n",
       "10124            44      F     High School        Married  Less than $40K   \n",
       "10126            43      F        Graduate        Married  Less than $40K   \n",
       "\n",
       "       Months_Inactive_12_mon  Credit_Limit  Total_Trans_Amt  Total_Trans_Ct  \n",
       "1                           1        8256.0             1291              33  \n",
       "3                           4        3313.0             1171              20  \n",
       "14                          2        2436.0             1570              29  \n",
       "19                          1       14470.0             1207              21  \n",
       "21                          3        1438.3              692              16  \n",
       "...                       ...           ...              ...             ...  \n",
       "10106                       2        4299.0            15068             123  \n",
       "10119                       3       14657.0             6009              53  \n",
       "10121                       1        3688.0            14596             120  \n",
       "10124                       3        5409.0            10291              60  \n",
       "10126                       2       10388.0            10294              61  \n",
       "\n",
       "[5358 rows x 9 columns]"
      ]
     },
     "execution_count": 19,
     "metadata": {},
     "output_type": "execute_result"
    }
   ],
   "source": [
    "baseM = baseOG[(baseOG.Gender == \"F\")]\n",
    "baseM"
   ]
  },
  {
   "cell_type": "code",
   "execution_count": 21,
   "metadata": {
    "scrolled": false
   },
   "outputs": [
    {
     "data": {
      "text/plain": [
       "Text(0.5, 0, 'Cantidad de ingresos')"
      ]
     },
     "execution_count": 21,
     "metadata": {},
     "output_type": "execute_result"
    },
    {
     "data": {
      "image/png": "[encoded data removed]",
      "text/plain": [
       "<Figure size 432x288 with 1 Axes>"
      ]
     },
     "metadata": {
      "needs_background": "light"
     },
     "output_type": "display_data"
    }
   ],
   "source": [
    "(baseM['Income_Category'].value_counts().sort_index()/len(baseM)).plot.bar()\n",
    "plt.title(\"Ingresos de Mujeres\")\n",
    "plt.ylabel(\"Porcentaje de Usuarios\")\n",
    "plt.xlabel(\"Cantidad de ingresos\")"
   ]
  },
  {
   "cell_type": "code",
   "execution_count": 24,
   "metadata": {},
   "outputs": [
    {
     "data": {
      "image/png": "[encoded data removed]",
      "text/plain": [
       "<Figure size 576x576 with 1 Axes>"
      ]
     },
     "metadata": {},
     "output_type": "display_data"
    }
   ],
   "source": [
    "import matplotlib as plt \n",
    "from matplotlib import pyplot\n",
    "from matplotlib import colors \n",
    "from matplotlib import cm \n",
    "plt.pyplot.figure(figsize=(8,8))\n",
    "baseM['Education_Level'].value_counts().plot.pie(autopct=\"%0.1f%%\", cmap= \"inferno_r\")\n",
    "plt.pyplot.title(\"Porcentaje educacion Mujeres\")\n",
    "plt.pyplot.show()"
   ]
  },
  {
   "cell_type": "code",
   "execution_count": 43,
   "metadata": {},
   "outputs": [
    {
     "data": {
      "text/plain": [
       "Text(0.5, 0, 'Educación')"
      ]
     },
     "execution_count": 43,
     "metadata": {},
     "output_type": "execute_result"
    },
    {
     "data": {
      "image/png": "[encoded data removed]",
      "text/plain": [
       "<Figure size 1440x360 with 1 Axes>"
      ]
     },
     "metadata": {
      "needs_background": "light"
     },
     "output_type": "display_data"
    }
   ],
   "source": [
    "mini5 = pd.melt(baseM,id_vars = \"Education_Level\",value_vars = ['Total_Trans_Ct'])\n",
    "plt.figure(figsize = (20,5))\n",
    "sns.boxplot(x = \"variable\", y = \"value\", hue=\"Education_Level\",data= mini5)\n",
    "plt.title(\"Educacion vs Cantidad de transacciones en hombres\")\n",
    "plt.ylabel(\"Transacciones\")\n",
    "plt.xlabel(\"Educación\")"
   ]
  },
  {
   "cell_type": "markdown",
   "metadata": {},
   "source": [
    "### IV Conclusión General\n",
    "\n",
    "Podemos notar que hay una cantidad considerable de datos que se desconocen y son de gran importancia para la institución bancaria, como viene siendo la cantidad de ingresos que tienen. Una empresa financiera no debería tener un riesgo de ese tamaño al conceder tarjetas de crédito, ya que puede llegar a ocasionar pérdidas considerables para esta. Con respecto a la muestra, podemos notar que la cantidad de hombres y mujeres es muy similar, de esta manera se puede realizar un análisis un poco más específico sin tener que preocuparse por la escasez de datos de uno de los dos grupos. También viene información importante, como vienen siendo los ingresos, gastos y transacciones. \n",
    "\n",
    "Podemos resaltar la gran brecha salarial que hay entre entre hombres y mujeres, las mujeres siguen ganando en todo el mundo un 23% menos que los hombres en el mercado de trabajo, según las Naciones Unidas, y lo confirmamos visualizando que no hay mucha diferencia en el nivel educativo entre ambos usuarios y que son más mujeres usuarias de tarjetas de crédito que hombres"
   ]
  },
  {
   "cell_type": "markdown",
   "metadata": {},
   "source": [
    "### Referencias\n",
    "https://seaborn.pydata.org/tutorial/categorical.html\n",
    "\n",
    "https://seaborn.pydata.org/generated/seaborn.catplot.html\n",
    "\n",
    "https://www.geeksforgeeks.org/box-plot-in-python-using-matplotlib/#:~:text=A%20Box%20Plot%20is%20also,median%2C%20third%20quartile%20and%20maximum.\n",
    "\n",
    "https://matplotlib.org/stable/tutorials/colors/colormaps.html\n"
   ]
  },
  {
   "cell_type": "code",
   "execution_count": null,
   "metadata": {},
   "outputs": [],
   "source": []
  }
 ],
 "metadata": {
  "kernelspec": {
   "display_name": "Python 3",
   "language": "python",
   "name": "python3"
  },
  "language_info": {
   "codemirror_mode": {
    "name": "ipython",
    "version": 3
   },
   "file_extension": ".py",
   "mimetype": "text/x-python",
   "name": "python",
   "nbconvert_exporter": "python",
   "pygments_lexer": "ipython3",
   "version": "3.8.5"
  }
 },
 "nbformat": 4,
 "nbformat_minor": 4
}
